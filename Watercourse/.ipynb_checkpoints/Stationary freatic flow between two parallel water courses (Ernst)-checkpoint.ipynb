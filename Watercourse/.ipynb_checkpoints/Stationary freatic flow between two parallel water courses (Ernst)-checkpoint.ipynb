{
 "cells": [
  {
   "cell_type": "markdown",
   "metadata": {},
   "source": [
    "# Stationary freatic flow between two parallel water courses (Ernst)"
   ]
  },
  {
   "cell_type": "code",
   "execution_count": 1,
   "metadata": {},
   "outputs": [],
   "source": [
    "import numpy as np\n",
    "%matplotlib inline\n",
    "import matplotlib.pyplot as plt\n",
    "plt.style.use('seaborn-whitegrid')"
   ]
  },
  {
   "cell_type": "code",
   "execution_count": 2,
   "metadata": {},
   "outputs": [],
   "source": [
    "def h_ver(q,Kv,Dv):\n",
    "    \"\"\"Return head loss caused by vertical flow resitance\"\"\"\n",
    "    return q*Dv/Kv\n",
    "\n",
    "def h_hor(L,q,T):\n",
    "    \"\"\"Return head loss caused by horizontal flow resitance \"\"\"\n",
    "    return q * L**2 / (8*T)\n",
    "\n",
    "def h_rad(L,q,Kr,Dr,a,u):\n",
    "    \"\"\" Return head loss caused by radial flow resitance around the water course\"\"\"\n",
    "    return q * L/(np.pi*Kr) * np.log(a*Dr/u)\n",
    "\n",
    "def head_loss(L,q,Kv,Dv,Kr,Dr,T):\n",
    "    \"\"\"Return head loss caused by total resitance\"\"\"\n",
    "    hv = h_ver(q,Kv,Dv)\n",
    "    hh = h_hor(L,q,T)\n",
    "    hr = h_rad(L,q,Kr,Dr,a,u)\n",
    "    return hv+hh+hr"
   ]
  },
  {
   "cell_type": "code",
   "execution_count": 3,
   "metadata": {},
   "outputs": [],
   "source": [
    "L = 400.\n",
    "q = 300./365./1000.\n",
    "Kv = 3.\n",
    "Dv = 2.\n",
    "T = 200.\n",
    "Kr = 3.\n",
    "Dr = 4."
   ]
  },
  {
   "cell_type": "code",
   "execution_count": null,
   "metadata": {},
   "outputs": [],
   "source": [
    "K"
   ]
  }
 ],
 "metadata": {
  "kernelspec": {
   "display_name": "Python 3",
   "language": "python",
   "name": "python3"
  },
  "language_info": {
   "codemirror_mode": {
    "name": "ipython",
    "version": 3
   },
   "file_extension": ".py",
   "mimetype": "text/x-python",
   "name": "python",
   "nbconvert_exporter": "python",
   "pygments_lexer": "ipython3",
   "version": "3.6.8"
  }
 },
 "nbformat": 4,
 "nbformat_minor": 2
}
