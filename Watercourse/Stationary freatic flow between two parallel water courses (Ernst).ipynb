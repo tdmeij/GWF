{
 "cells": [
  {
   "cell_type": "markdown",
   "metadata": {},
   "source": [
    "# Stationary freatic flow between two parallel water courses (Ernst)"
   ]
  },
  {
   "cell_type": "code",
   "execution_count": 1,
   "metadata": {},
   "outputs": [],
   "source": [
    "import numpy as np\n",
    "%matplotlib inline\n",
    "import matplotlib.pyplot as plt\n",
    "plt.style.use('seaborn-whitegrid')"
   ]
  },
  {
   "cell_type": "code",
   "execution_count": 2,
   "metadata": {},
   "outputs": [],
   "source": [
    "def h_ver(q,Kv,Dv):\n",
    "    \"\"\"Return head loss caused by vertical flow resitance\"\"\"\n",
    "    return q*Dv/Kv\n",
    "\n",
    "def h_hor(L,q,T):\n",
    "    \"\"\"Return head loss caused by horizontal flow resitance \"\"\"\n",
    "    return q * L**2 / (8*T)\n",
    "\n",
    "def h_rad(L,q,Kr,Dr,a,u):\n",
    "    \"\"\" Return head loss caused by radial flow resitance around the water course\"\"\"\n",
    "    return q * L/(np.pi*Kr) * np.log(a*Dr/u)\n",
    "\n",
    "def head_loss(L,q,Kv,Dv,Kr,Dr,T):\n",
    "    \"\"\"Return head loss caused by total resitance\"\"\"\n",
    "    hv = h_ver(q,Kv,Dv)\n",
    "    hh = h_hor(L,q,T)\n",
    "    hr = h_rad(L,q,Kr,Dr,a,u)\n",
    "    return hv+hh+hr"
   ]
  },
  {
   "cell_type": "code",
   "execution_count": 7,
   "metadata": {},
   "outputs": [
    {
     "name": "stdout",
     "output_type": "stream",
     "text": [
      "0.1552774575844334\n"
     ]
    }
   ],
   "source": [
    "L = 400.\n",
    "q = 300./365./1000.\n",
    "Kv = 3.\n",
    "Dv = 2.\n",
    "T = 200.\n",
    "Kr = 3.\n",
    "Dr = 4.\n",
    "u = 2.5\n",
    "a = 5.\n",
    "h0 = head_loss(L,q,Kv,Dv,Kr,Dr,T)\n",
    "print(h0)"
   ]
  },
  {
   "cell_type": "code",
   "execution_count": 10,
   "metadata": {},
   "outputs": [
    {
     "name": "stdout",
     "output_type": "stream",
     "text": [
      "0.0547945205479452 8.21917808219178 7.253773155703613 15.52774575844334\n"
     ]
    }
   ],
   "source": [
    "hv = h_ver(q,Kv,Dv)\n",
    "hh = h_hor(L,q,T)\n",
    "hr = h_rad(L,q,Kr,Dr,a,u)\n",
    "h0 = head_loss(L,q,Kv,Dv,Kr,Dr,T)\n",
    "print(hv*100,hh*100,hr*100,h0*100)"
   ]
  },
  {
   "cell_type": "code",
   "execution_count": 5,
   "metadata": {},
   "outputs": [
    {
     "name": "stdout",
     "output_type": "stream",
     "text": [
      "5.0\n",
      "10.0\n"
     ]
    }
   ],
   "source": [
    "Kt = 3.\n",
    "Kb = 15.\n",
    "print(Kb/Kt)\n",
    "Dt = 3.\n",
    "Db = 30.\n",
    "print(Db/Dt)"
   ]
  },
  {
   "cell_type": "code",
   "execution_count": null,
   "metadata": {},
   "outputs": [],
   "source": []
  }
 ],
 "metadata": {
  "kernelspec": {
   "display_name": "Python 3",
   "language": "python",
   "name": "python3"
  },
  "language_info": {
   "codemirror_mode": {
    "name": "ipython",
    "version": 3
   },
   "file_extension": ".py",
   "mimetype": "text/x-python",
   "name": "python",
   "nbconvert_exporter": "python",
   "pygments_lexer": "ipython3",
   "version": "3.6.8"
  }
 },
 "nbformat": 4,
 "nbformat_minor": 2
}
